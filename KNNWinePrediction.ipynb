{
  "nbformat": 4,
  "nbformat_minor": 0,
  "metadata": {
    "colab": {
      "name": "KNNWine.ipynb",
      "provenance": [],
      "collapsed_sections": [],
      "toc_visible": true,
      "authorship_tag": "ABX9TyOwfNBnIHUt1DwG+ChE0Bo2",
      "include_colab_link": true
    },
    "kernelspec": {
      "name": "python3",
      "display_name": "Python 3"
    }
  },
  "cells": [
    {
      "cell_type": "markdown",
      "metadata": {
        "id": "view-in-github",
        "colab_type": "text"
      },
      "source": [
        "<a href=\"https://colab.research.google.com/github/Mattmack1/Machine-Learning-Projects/blob/main/KNNWinePrediction.ipynb\" target=\"_parent\"><img src=\"https://colab.research.google.com/assets/colab-badge.svg\" alt=\"Open In Colab\"/></a>"
      ]
    },
    {
      "cell_type": "markdown",
      "metadata": {
        "id": "oDDB4xwPsbr7"
      },
      "source": [
        "# Goal: Use nearest neighbor models to try and predict whether or not the quality of wine is good (1) or bad (0)."
      ]
    },
    {
      "cell_type": "markdown",
      "metadata": {
        "id": "ceqLhdsfskDx"
      },
      "source": [
        "### Read in all of our inputs"
      ]
    },
    {
      "cell_type": "code",
      "metadata": {
        "id": "IUrZPZxwYAlI"
      },
      "source": [
        "import math\n",
        "\n",
        "import numpy as np\n",
        "import pandas as pd\n",
        "\n",
        "from sklearn.pipeline import make_pipeline\n",
        "from sklearn.model_selection import train_test_split\n",
        "from sklearn.model_selection import GridSearchCV, RandomizedSearchCV, cross_val_score\n",
        "from sklearn.metrics import f1_score, accuracy_score, roc_auc_score\n",
        "from sklearn.metrics import plot_roc_curve\n",
        "from sklearn.neighbors import KNeighborsClassifier\n",
        "from sklearn.preprocessing import StandardScaler, MinMaxScaler\n",
        "from sklearn.neighbors import (KNeighborsClassifier,\n",
        "                               NeighborhoodComponentsAnalysis)\n",
        "from sklearn.pipeline import Pipeline\n",
        "from sklearn import decomposition\n",
        "from sklearn.model_selection import StratifiedKFold\n",
        "\n",
        "import matplotlib.pyplot as plt\n",
        "import seaborn as sns\n",
        "\n",
        "%matplotlib inline"
      ],
      "execution_count": 1,
      "outputs": []
    },
    {
      "cell_type": "markdown",
      "metadata": {
        "id": "00WZ0Wj6so3E"
      },
      "source": [
        "### Read in the training and testing data."
      ]
    },
    {
      "cell_type": "code",
      "metadata": {
        "id": "BvMHXwUgYGRT"
      },
      "source": [
        "train_data = pd.read_csv(\"train.csv\").drop(columns=['id'])\n",
        "test_data = pd.read_csv(\"test.csv\").drop(columns=['id'])"
      ],
      "execution_count": 3,
      "outputs": []
    },
    {
      "cell_type": "markdown",
      "metadata": {
        "id": "4kRFRu0tsxnu"
      },
      "source": [
        "# Get an idea of what is in the training and testing data."
      ]
    },
    {
      "cell_type": "code",
      "metadata": {
        "colab": {
          "base_uri": "https://localhost:8080/",
          "height": 436
        },
        "id": "7-hCGwVfYJ46",
        "outputId": "b72f45a7-9010-4d13-c4e9-1f483891434a"
      },
      "source": [
        "train_data"
      ],
      "execution_count": null,
      "outputs": [
        {
          "output_type": "execute_result",
          "data": {
            "text/html": [
              "<div>\n",
              "<style scoped>\n",
              "    .dataframe tbody tr th:only-of-type {\n",
              "        vertical-align: middle;\n",
              "    }\n",
              "\n",
              "    .dataframe tbody tr th {\n",
              "        vertical-align: top;\n",
              "    }\n",
              "\n",
              "    .dataframe thead th {\n",
              "        text-align: right;\n",
              "    }\n",
              "</style>\n",
              "<table border=\"1\" class=\"dataframe\">\n",
              "  <thead>\n",
              "    <tr style=\"text-align: right;\">\n",
              "      <th></th>\n",
              "      <th>fixed acidity</th>\n",
              "      <th>volatile acidity</th>\n",
              "      <th>citric acid</th>\n",
              "      <th>residual sugar</th>\n",
              "      <th>chlorides</th>\n",
              "      <th>free sulfur dioxide</th>\n",
              "      <th>total sulfur dioxide</th>\n",
              "      <th>density</th>\n",
              "      <th>pH</th>\n",
              "      <th>sulphates</th>\n",
              "      <th>alcohol</th>\n",
              "      <th>quality</th>\n",
              "    </tr>\n",
              "  </thead>\n",
              "  <tbody>\n",
              "    <tr>\n",
              "      <th>0</th>\n",
              "      <td>8.5</td>\n",
              "      <td>0.40</td>\n",
              "      <td>0.40</td>\n",
              "      <td>6.3</td>\n",
              "      <td>0.050</td>\n",
              "      <td>3.0</td>\n",
              "      <td>10.0</td>\n",
              "      <td>0.99566</td>\n",
              "      <td>3.28</td>\n",
              "      <td>0.56</td>\n",
              "      <td>12.0</td>\n",
              "      <td>0</td>\n",
              "    </tr>\n",
              "    <tr>\n",
              "      <th>1</th>\n",
              "      <td>11.5</td>\n",
              "      <td>0.18</td>\n",
              "      <td>0.51</td>\n",
              "      <td>4.0</td>\n",
              "      <td>0.104</td>\n",
              "      <td>4.0</td>\n",
              "      <td>23.0</td>\n",
              "      <td>0.99960</td>\n",
              "      <td>3.28</td>\n",
              "      <td>0.97</td>\n",
              "      <td>10.1</td>\n",
              "      <td>1</td>\n",
              "    </tr>\n",
              "    <tr>\n",
              "      <th>2</th>\n",
              "      <td>8.2</td>\n",
              "      <td>0.34</td>\n",
              "      <td>0.37</td>\n",
              "      <td>1.9</td>\n",
              "      <td>0.057</td>\n",
              "      <td>43.0</td>\n",
              "      <td>74.0</td>\n",
              "      <td>0.99408</td>\n",
              "      <td>3.23</td>\n",
              "      <td>0.81</td>\n",
              "      <td>12.0</td>\n",
              "      <td>1</td>\n",
              "    </tr>\n",
              "    <tr>\n",
              "      <th>3</th>\n",
              "      <td>10.7</td>\n",
              "      <td>0.43</td>\n",
              "      <td>0.39</td>\n",
              "      <td>2.2</td>\n",
              "      <td>0.106</td>\n",
              "      <td>8.0</td>\n",
              "      <td>32.0</td>\n",
              "      <td>0.99860</td>\n",
              "      <td>2.89</td>\n",
              "      <td>0.50</td>\n",
              "      <td>9.6</td>\n",
              "      <td>0</td>\n",
              "    </tr>\n",
              "    <tr>\n",
              "      <th>4</th>\n",
              "      <td>7.6</td>\n",
              "      <td>0.42</td>\n",
              "      <td>0.25</td>\n",
              "      <td>3.9</td>\n",
              "      <td>0.104</td>\n",
              "      <td>28.0</td>\n",
              "      <td>90.0</td>\n",
              "      <td>0.99784</td>\n",
              "      <td>3.15</td>\n",
              "      <td>0.57</td>\n",
              "      <td>9.1</td>\n",
              "      <td>0</td>\n",
              "    </tr>\n",
              "    <tr>\n",
              "      <th>...</th>\n",
              "      <td>...</td>\n",
              "      <td>...</td>\n",
              "      <td>...</td>\n",
              "      <td>...</td>\n",
              "      <td>...</td>\n",
              "      <td>...</td>\n",
              "      <td>...</td>\n",
              "      <td>...</td>\n",
              "      <td>...</td>\n",
              "      <td>...</td>\n",
              "      <td>...</td>\n",
              "      <td>...</td>\n",
              "    </tr>\n",
              "    <tr>\n",
              "      <th>794</th>\n",
              "      <td>6.6</td>\n",
              "      <td>0.96</td>\n",
              "      <td>0.00</td>\n",
              "      <td>1.8</td>\n",
              "      <td>0.082</td>\n",
              "      <td>5.0</td>\n",
              "      <td>16.0</td>\n",
              "      <td>0.99360</td>\n",
              "      <td>3.50</td>\n",
              "      <td>0.44</td>\n",
              "      <td>11.9</td>\n",
              "      <td>1</td>\n",
              "    </tr>\n",
              "    <tr>\n",
              "      <th>795</th>\n",
              "      <td>7.5</td>\n",
              "      <td>0.58</td>\n",
              "      <td>0.56</td>\n",
              "      <td>3.1</td>\n",
              "      <td>0.153</td>\n",
              "      <td>5.0</td>\n",
              "      <td>14.0</td>\n",
              "      <td>0.99476</td>\n",
              "      <td>3.21</td>\n",
              "      <td>1.03</td>\n",
              "      <td>11.6</td>\n",
              "      <td>1</td>\n",
              "    </tr>\n",
              "    <tr>\n",
              "      <th>796</th>\n",
              "      <td>5.6</td>\n",
              "      <td>0.31</td>\n",
              "      <td>0.78</td>\n",
              "      <td>13.9</td>\n",
              "      <td>0.074</td>\n",
              "      <td>23.0</td>\n",
              "      <td>92.0</td>\n",
              "      <td>0.99677</td>\n",
              "      <td>3.39</td>\n",
              "      <td>0.48</td>\n",
              "      <td>10.5</td>\n",
              "      <td>1</td>\n",
              "    </tr>\n",
              "    <tr>\n",
              "      <th>797</th>\n",
              "      <td>8.4</td>\n",
              "      <td>0.62</td>\n",
              "      <td>0.12</td>\n",
              "      <td>1.8</td>\n",
              "      <td>0.072</td>\n",
              "      <td>38.0</td>\n",
              "      <td>46.0</td>\n",
              "      <td>0.99504</td>\n",
              "      <td>3.38</td>\n",
              "      <td>0.89</td>\n",
              "      <td>11.8</td>\n",
              "      <td>1</td>\n",
              "    </tr>\n",
              "    <tr>\n",
              "      <th>798</th>\n",
              "      <td>9.5</td>\n",
              "      <td>0.86</td>\n",
              "      <td>0.26</td>\n",
              "      <td>1.9</td>\n",
              "      <td>0.079</td>\n",
              "      <td>13.0</td>\n",
              "      <td>28.0</td>\n",
              "      <td>0.99712</td>\n",
              "      <td>3.25</td>\n",
              "      <td>0.62</td>\n",
              "      <td>10.0</td>\n",
              "      <td>0</td>\n",
              "    </tr>\n",
              "  </tbody>\n",
              "</table>\n",
              "<p>799 rows × 12 columns</p>\n",
              "</div>"
            ],
            "text/plain": [
              "     fixed acidity  volatile acidity  citric acid  ...  sulphates  alcohol  quality\n",
              "0              8.5              0.40         0.40  ...       0.56     12.0        0\n",
              "1             11.5              0.18         0.51  ...       0.97     10.1        1\n",
              "2              8.2              0.34         0.37  ...       0.81     12.0        1\n",
              "3             10.7              0.43         0.39  ...       0.50      9.6        0\n",
              "4              7.6              0.42         0.25  ...       0.57      9.1        0\n",
              "..             ...               ...          ...  ...        ...      ...      ...\n",
              "794            6.6              0.96         0.00  ...       0.44     11.9        1\n",
              "795            7.5              0.58         0.56  ...       1.03     11.6        1\n",
              "796            5.6              0.31         0.78  ...       0.48     10.5        1\n",
              "797            8.4              0.62         0.12  ...       0.89     11.8        1\n",
              "798            9.5              0.86         0.26  ...       0.62     10.0        0\n",
              "\n",
              "[799 rows x 12 columns]"
            ]
          },
          "metadata": {
            "tags": []
          },
          "execution_count": 55
        }
      ]
    },
    {
      "cell_type": "code",
      "metadata": {
        "colab": {
          "base_uri": "https://localhost:8080/",
          "height": 419
        },
        "id": "T1QWQSpXYKBR",
        "outputId": "a22ebd21-bab0-4045-8cdd-3054453658f8"
      },
      "source": [
        "test_data"
      ],
      "execution_count": null,
      "outputs": [
        {
          "output_type": "execute_result",
          "data": {
            "text/html": [
              "<div>\n",
              "<style scoped>\n",
              "    .dataframe tbody tr th:only-of-type {\n",
              "        vertical-align: middle;\n",
              "    }\n",
              "\n",
              "    .dataframe tbody tr th {\n",
              "        vertical-align: top;\n",
              "    }\n",
              "\n",
              "    .dataframe thead th {\n",
              "        text-align: right;\n",
              "    }\n",
              "</style>\n",
              "<table border=\"1\" class=\"dataframe\">\n",
              "  <thead>\n",
              "    <tr style=\"text-align: right;\">\n",
              "      <th></th>\n",
              "      <th>fixed acidity</th>\n",
              "      <th>volatile acidity</th>\n",
              "      <th>citric acid</th>\n",
              "      <th>residual sugar</th>\n",
              "      <th>chlorides</th>\n",
              "      <th>free sulfur dioxide</th>\n",
              "      <th>total sulfur dioxide</th>\n",
              "      <th>density</th>\n",
              "      <th>pH</th>\n",
              "      <th>sulphates</th>\n",
              "      <th>alcohol</th>\n",
              "    </tr>\n",
              "  </thead>\n",
              "  <tbody>\n",
              "    <tr>\n",
              "      <th>0</th>\n",
              "      <td>7.3</td>\n",
              "      <td>0.67</td>\n",
              "      <td>0.05</td>\n",
              "      <td>3.6</td>\n",
              "      <td>0.107</td>\n",
              "      <td>6.0</td>\n",
              "      <td>20.0</td>\n",
              "      <td>0.99720</td>\n",
              "      <td>3.40</td>\n",
              "      <td>0.63</td>\n",
              "      <td>10.1</td>\n",
              "    </tr>\n",
              "    <tr>\n",
              "      <th>1</th>\n",
              "      <td>7.6</td>\n",
              "      <td>0.49</td>\n",
              "      <td>0.26</td>\n",
              "      <td>1.6</td>\n",
              "      <td>0.236</td>\n",
              "      <td>10.0</td>\n",
              "      <td>88.0</td>\n",
              "      <td>0.99680</td>\n",
              "      <td>3.11</td>\n",
              "      <td>0.80</td>\n",
              "      <td>9.3</td>\n",
              "    </tr>\n",
              "    <tr>\n",
              "      <th>2</th>\n",
              "      <td>8.1</td>\n",
              "      <td>0.56</td>\n",
              "      <td>0.28</td>\n",
              "      <td>1.7</td>\n",
              "      <td>0.368</td>\n",
              "      <td>16.0</td>\n",
              "      <td>56.0</td>\n",
              "      <td>0.99680</td>\n",
              "      <td>3.11</td>\n",
              "      <td>1.28</td>\n",
              "      <td>9.3</td>\n",
              "    </tr>\n",
              "    <tr>\n",
              "      <th>3</th>\n",
              "      <td>8.3</td>\n",
              "      <td>0.31</td>\n",
              "      <td>0.39</td>\n",
              "      <td>2.4</td>\n",
              "      <td>0.078</td>\n",
              "      <td>17.0</td>\n",
              "      <td>43.0</td>\n",
              "      <td>0.99444</td>\n",
              "      <td>3.31</td>\n",
              "      <td>0.77</td>\n",
              "      <td>12.5</td>\n",
              "    </tr>\n",
              "    <tr>\n",
              "      <th>4</th>\n",
              "      <td>7.3</td>\n",
              "      <td>0.51</td>\n",
              "      <td>0.18</td>\n",
              "      <td>2.1</td>\n",
              "      <td>0.070</td>\n",
              "      <td>12.0</td>\n",
              "      <td>28.0</td>\n",
              "      <td>0.99768</td>\n",
              "      <td>3.52</td>\n",
              "      <td>0.73</td>\n",
              "      <td>9.5</td>\n",
              "    </tr>\n",
              "    <tr>\n",
              "      <th>...</th>\n",
              "      <td>...</td>\n",
              "      <td>...</td>\n",
              "      <td>...</td>\n",
              "      <td>...</td>\n",
              "      <td>...</td>\n",
              "      <td>...</td>\n",
              "      <td>...</td>\n",
              "      <td>...</td>\n",
              "      <td>...</td>\n",
              "      <td>...</td>\n",
              "      <td>...</td>\n",
              "    </tr>\n",
              "    <tr>\n",
              "      <th>795</th>\n",
              "      <td>7.7</td>\n",
              "      <td>0.64</td>\n",
              "      <td>0.21</td>\n",
              "      <td>2.2</td>\n",
              "      <td>0.077</td>\n",
              "      <td>32.0</td>\n",
              "      <td>133.0</td>\n",
              "      <td>0.99560</td>\n",
              "      <td>3.27</td>\n",
              "      <td>0.45</td>\n",
              "      <td>9.9</td>\n",
              "    </tr>\n",
              "    <tr>\n",
              "      <th>796</th>\n",
              "      <td>8.2</td>\n",
              "      <td>0.35</td>\n",
              "      <td>0.33</td>\n",
              "      <td>2.4</td>\n",
              "      <td>0.076</td>\n",
              "      <td>11.0</td>\n",
              "      <td>47.0</td>\n",
              "      <td>0.99599</td>\n",
              "      <td>3.27</td>\n",
              "      <td>0.81</td>\n",
              "      <td>11.0</td>\n",
              "    </tr>\n",
              "    <tr>\n",
              "      <th>797</th>\n",
              "      <td>13.5</td>\n",
              "      <td>0.53</td>\n",
              "      <td>0.79</td>\n",
              "      <td>4.8</td>\n",
              "      <td>0.120</td>\n",
              "      <td>23.0</td>\n",
              "      <td>77.0</td>\n",
              "      <td>1.00180</td>\n",
              "      <td>3.18</td>\n",
              "      <td>0.77</td>\n",
              "      <td>13.0</td>\n",
              "    </tr>\n",
              "    <tr>\n",
              "      <th>798</th>\n",
              "      <td>6.5</td>\n",
              "      <td>0.88</td>\n",
              "      <td>0.03</td>\n",
              "      <td>5.6</td>\n",
              "      <td>0.079</td>\n",
              "      <td>23.0</td>\n",
              "      <td>47.0</td>\n",
              "      <td>0.99572</td>\n",
              "      <td>3.58</td>\n",
              "      <td>0.50</td>\n",
              "      <td>11.2</td>\n",
              "    </tr>\n",
              "    <tr>\n",
              "      <th>799</th>\n",
              "      <td>10.3</td>\n",
              "      <td>0.41</td>\n",
              "      <td>0.42</td>\n",
              "      <td>2.4</td>\n",
              "      <td>0.213</td>\n",
              "      <td>6.0</td>\n",
              "      <td>14.0</td>\n",
              "      <td>0.99940</td>\n",
              "      <td>3.19</td>\n",
              "      <td>0.62</td>\n",
              "      <td>9.5</td>\n",
              "    </tr>\n",
              "  </tbody>\n",
              "</table>\n",
              "<p>800 rows × 11 columns</p>\n",
              "</div>"
            ],
            "text/plain": [
              "     fixed acidity  volatile acidity  citric acid  ...    pH  sulphates  alcohol\n",
              "0              7.3              0.67         0.05  ...  3.40       0.63     10.1\n",
              "1              7.6              0.49         0.26  ...  3.11       0.80      9.3\n",
              "2              8.1              0.56         0.28  ...  3.11       1.28      9.3\n",
              "3              8.3              0.31         0.39  ...  3.31       0.77     12.5\n",
              "4              7.3              0.51         0.18  ...  3.52       0.73      9.5\n",
              "..             ...               ...          ...  ...   ...        ...      ...\n",
              "795            7.7              0.64         0.21  ...  3.27       0.45      9.9\n",
              "796            8.2              0.35         0.33  ...  3.27       0.81     11.0\n",
              "797           13.5              0.53         0.79  ...  3.18       0.77     13.0\n",
              "798            6.5              0.88         0.03  ...  3.58       0.50     11.2\n",
              "799           10.3              0.41         0.42  ...  3.19       0.62      9.5\n",
              "\n",
              "[800 rows x 11 columns]"
            ]
          },
          "metadata": {
            "tags": []
          },
          "execution_count": 56
        }
      ]
    },
    {
      "cell_type": "markdown",
      "metadata": {
        "id": "0U3QnJ_Ss4U4"
      },
      "source": [
        "## Check to see how the data is distributed. There are some values that range between decimals (chlorides) and others that range between the hundreds (sulfur dioxide).\n",
        "\n",
        "## It may be important to scale, normalize, or standardize the data.\n",
        "\n",
        "## We can also see that there are no null values in our data."
      ]
    },
    {
      "cell_type": "code",
      "metadata": {
        "colab": {
          "base_uri": "https://localhost:8080/",
          "height": 314
        },
        "id": "Ld4GYIDrLLwt",
        "outputId": "c330ce62-ae27-4022-fed0-401a15b22d36"
      },
      "source": [
        "train_data.describe()"
      ],
      "execution_count": null,
      "outputs": [
        {
          "output_type": "execute_result",
          "data": {
            "text/html": [
              "<div>\n",
              "<style scoped>\n",
              "    .dataframe tbody tr th:only-of-type {\n",
              "        vertical-align: middle;\n",
              "    }\n",
              "\n",
              "    .dataframe tbody tr th {\n",
              "        vertical-align: top;\n",
              "    }\n",
              "\n",
              "    .dataframe thead th {\n",
              "        text-align: right;\n",
              "    }\n",
              "</style>\n",
              "<table border=\"1\" class=\"dataframe\">\n",
              "  <thead>\n",
              "    <tr style=\"text-align: right;\">\n",
              "      <th></th>\n",
              "      <th>fixed acidity</th>\n",
              "      <th>volatile acidity</th>\n",
              "      <th>citric acid</th>\n",
              "      <th>residual sugar</th>\n",
              "      <th>chlorides</th>\n",
              "      <th>free sulfur dioxide</th>\n",
              "      <th>total sulfur dioxide</th>\n",
              "      <th>density</th>\n",
              "      <th>pH</th>\n",
              "      <th>sulphates</th>\n",
              "      <th>alcohol</th>\n",
              "      <th>quality</th>\n",
              "    </tr>\n",
              "  </thead>\n",
              "  <tbody>\n",
              "    <tr>\n",
              "      <th>count</th>\n",
              "      <td>799.000000</td>\n",
              "      <td>799.000000</td>\n",
              "      <td>799.000000</td>\n",
              "      <td>799.000000</td>\n",
              "      <td>799.000000</td>\n",
              "      <td>799.000000</td>\n",
              "      <td>799.000000</td>\n",
              "      <td>799.000000</td>\n",
              "      <td>799.000000</td>\n",
              "      <td>799.000000</td>\n",
              "      <td>799.000000</td>\n",
              "      <td>799.000000</td>\n",
              "    </tr>\n",
              "    <tr>\n",
              "      <th>mean</th>\n",
              "      <td>8.404255</td>\n",
              "      <td>0.532972</td>\n",
              "      <td>0.275207</td>\n",
              "      <td>2.543930</td>\n",
              "      <td>0.087874</td>\n",
              "      <td>15.732791</td>\n",
              "      <td>46.568836</td>\n",
              "      <td>0.996901</td>\n",
              "      <td>3.310300</td>\n",
              "      <td>0.663692</td>\n",
              "      <td>10.371652</td>\n",
              "      <td>0.534418</td>\n",
              "    </tr>\n",
              "    <tr>\n",
              "      <th>std</th>\n",
              "      <td>1.820637</td>\n",
              "      <td>0.180163</td>\n",
              "      <td>0.199743</td>\n",
              "      <td>1.380552</td>\n",
              "      <td>0.046212</td>\n",
              "      <td>10.102371</td>\n",
              "      <td>32.453258</td>\n",
              "      <td>0.001891</td>\n",
              "      <td>0.158626</td>\n",
              "      <td>0.178889</td>\n",
              "      <td>1.038703</td>\n",
              "      <td>0.499126</td>\n",
              "    </tr>\n",
              "    <tr>\n",
              "      <th>min</th>\n",
              "      <td>4.600000</td>\n",
              "      <td>0.160000</td>\n",
              "      <td>0.000000</td>\n",
              "      <td>1.200000</td>\n",
              "      <td>0.012000</td>\n",
              "      <td>1.000000</td>\n",
              "      <td>6.000000</td>\n",
              "      <td>0.990640</td>\n",
              "      <td>2.740000</td>\n",
              "      <td>0.370000</td>\n",
              "      <td>8.400000</td>\n",
              "      <td>0.000000</td>\n",
              "    </tr>\n",
              "    <tr>\n",
              "      <th>25%</th>\n",
              "      <td>7.100000</td>\n",
              "      <td>0.395000</td>\n",
              "      <td>0.090000</td>\n",
              "      <td>1.900000</td>\n",
              "      <td>0.071000</td>\n",
              "      <td>7.000000</td>\n",
              "      <td>22.000000</td>\n",
              "      <td>0.995725</td>\n",
              "      <td>3.210000</td>\n",
              "      <td>0.550000</td>\n",
              "      <td>9.500000</td>\n",
              "      <td>0.000000</td>\n",
              "    </tr>\n",
              "    <tr>\n",
              "      <th>50%</th>\n",
              "      <td>7.900000</td>\n",
              "      <td>0.520000</td>\n",
              "      <td>0.260000</td>\n",
              "      <td>2.200000</td>\n",
              "      <td>0.080000</td>\n",
              "      <td>14.000000</td>\n",
              "      <td>37.000000</td>\n",
              "      <td>0.996820</td>\n",
              "      <td>3.310000</td>\n",
              "      <td>0.620000</td>\n",
              "      <td>10.100000</td>\n",
              "      <td>1.000000</td>\n",
              "    </tr>\n",
              "    <tr>\n",
              "      <th>75%</th>\n",
              "      <td>9.300000</td>\n",
              "      <td>0.640000</td>\n",
              "      <td>0.440000</td>\n",
              "      <td>2.600000</td>\n",
              "      <td>0.091000</td>\n",
              "      <td>21.000000</td>\n",
              "      <td>65.000000</td>\n",
              "      <td>0.998000</td>\n",
              "      <td>3.400000</td>\n",
              "      <td>0.735000</td>\n",
              "      <td>11.000000</td>\n",
              "      <td>1.000000</td>\n",
              "    </tr>\n",
              "    <tr>\n",
              "      <th>max</th>\n",
              "      <td>15.600000</td>\n",
              "      <td>1.580000</td>\n",
              "      <td>1.000000</td>\n",
              "      <td>15.500000</td>\n",
              "      <td>0.610000</td>\n",
              "      <td>55.000000</td>\n",
              "      <td>278.000000</td>\n",
              "      <td>1.003690</td>\n",
              "      <td>4.010000</td>\n",
              "      <td>2.000000</td>\n",
              "      <td>14.000000</td>\n",
              "      <td>1.000000</td>\n",
              "    </tr>\n",
              "  </tbody>\n",
              "</table>\n",
              "</div>"
            ],
            "text/plain": [
              "       fixed acidity  volatile acidity  ...     alcohol     quality\n",
              "count     799.000000        799.000000  ...  799.000000  799.000000\n",
              "mean        8.404255          0.532972  ...   10.371652    0.534418\n",
              "std         1.820637          0.180163  ...    1.038703    0.499126\n",
              "min         4.600000          0.160000  ...    8.400000    0.000000\n",
              "25%         7.100000          0.395000  ...    9.500000    0.000000\n",
              "50%         7.900000          0.520000  ...   10.100000    1.000000\n",
              "75%         9.300000          0.640000  ...   11.000000    1.000000\n",
              "max        15.600000          1.580000  ...   14.000000    1.000000\n",
              "\n",
              "[8 rows x 12 columns]"
            ]
          },
          "metadata": {
            "tags": []
          },
          "execution_count": 57
        }
      ]
    },
    {
      "cell_type": "code",
      "metadata": {
        "colab": {
          "base_uri": "https://localhost:8080/"
        },
        "id": "0Wd2UydlLOF2",
        "outputId": "a69c5483-ba71-46ab-b88a-5cfac550aa39"
      },
      "source": [
        "train_data.info()"
      ],
      "execution_count": null,
      "outputs": [
        {
          "output_type": "stream",
          "text": [
            "<class 'pandas.core.frame.DataFrame'>\n",
            "RangeIndex: 799 entries, 0 to 798\n",
            "Data columns (total 12 columns):\n",
            " #   Column                Non-Null Count  Dtype  \n",
            "---  ------                --------------  -----  \n",
            " 0   fixed acidity         799 non-null    float64\n",
            " 1   volatile acidity      799 non-null    float64\n",
            " 2   citric acid           799 non-null    float64\n",
            " 3   residual sugar        799 non-null    float64\n",
            " 4   chlorides             799 non-null    float64\n",
            " 5   free sulfur dioxide   799 non-null    float64\n",
            " 6   total sulfur dioxide  799 non-null    float64\n",
            " 7   density               799 non-null    float64\n",
            " 8   pH                    799 non-null    float64\n",
            " 9   sulphates             799 non-null    float64\n",
            " 10  alcohol               799 non-null    float64\n",
            " 11  quality               799 non-null    int64  \n",
            "dtypes: float64(11), int64(1)\n",
            "memory usage: 75.0 KB\n"
          ],
          "name": "stdout"
        }
      ]
    },
    {
      "cell_type": "code",
      "metadata": {
        "colab": {
          "base_uri": "https://localhost:8080/",
          "height": 696
        },
        "id": "ZZ6RjlR4YMZ3",
        "outputId": "8971472e-6d72-42cc-e5a2-ae8fd1f75cfe"
      },
      "source": [
        "plt.subplots(figsize=(10,10))\n",
        "sns.heatmap(train_data.corr(), cmap='RdYlGn', linewidths=.5)"
      ],
      "execution_count": null,
      "outputs": [
        {
          "output_type": "execute_result",
          "data": {
            "text/plain": [
              "<matplotlib.axes._subplots.AxesSubplot at 0x7f2377e4ff50>"
            ]
          },
          "metadata": {
            "tags": []
          },
          "execution_count": 5
        },
        {
          "output_type": "display_data",
          "data": {
            "image/png": "[encoded data removed]",
            "text/plain": [
              "<Figure size 720x720 with 2 Axes>"
            ]
          },
          "metadata": {
            "tags": [],
            "needs_background": "light"
          }
        }
      ]
    },
    {
      "cell_type": "markdown",
      "metadata": {
        "id": "oIOCrlLjLHqJ"
      },
      "source": [
        "## Checking to see how correlated the data is to quality. At a glance you can see alcohol and volatile acidity seem to have an effect on quality while fixed acidity, sulphates, and citric acid have less of an effect."
      ]
    },
    {
      "cell_type": "code",
      "metadata": {
        "colab": {
          "base_uri": "https://localhost:8080/"
        },
        "id": "cBioEK_JGOj6",
        "outputId": "5030a1a6-eab2-4be7-a723-7e75cc4689ac"
      },
      "source": [
        "train_data.isna().sum().sum()"
      ],
      "execution_count": null,
      "outputs": [
        {
          "output_type": "execute_result",
          "data": {
            "text/plain": [
              "0"
            ]
          },
          "metadata": {
            "tags": []
          },
          "execution_count": 26
        }
      ]
    },
    {
      "cell_type": "markdown",
      "metadata": {
        "id": "FkZvZgS-LBhh"
      },
      "source": [
        "We can be extra confident there are no missing values."
      ]
    },
    {
      "cell_type": "code",
      "metadata": {
        "colab": {
          "base_uri": "https://localhost:8080/",
          "height": 675
        },
        "id": "NQY5terrGcrc",
        "outputId": "4ac90e8b-9d40-4558-837a-96a0e34f09a3"
      },
      "source": [
        "train_data.loc[:, train_data.columns.to_list()].boxplot(figsize=(20,10), rot=90);"
      ],
      "execution_count": null,
      "outputs": [
        {
          "output_type": "display_data",
          "data": {
            "image/png": "[encoded data removed]",
            "text/plain": [
              "<Figure size 1440x720 with 1 Axes>"
            ]
          },
          "metadata": {
            "tags": [],
            "needs_background": "light"
          }
        }
      ]
    },
    {
      "cell_type": "markdown",
      "metadata": {
        "id": "YReBqwYwLmk9"
      },
      "source": [
        "## There are some outliers in the data and it could probably due with some level of normalization/standardization"
      ]
    },
    {
      "cell_type": "markdown",
      "metadata": {
        "id": "L7t_xFngtorj"
      },
      "source": [
        "# Split our data so that the quality column is our Y and the rest of our data is our X."
      ]
    },
    {
      "cell_type": "code",
      "metadata": {
        "id": "jb9xZCdtYhBl"
      },
      "source": [
        "y_train = train_data.iloc[:,-1:]\n",
        "X_train = train_data.iloc[:,:-1]\n",
        "\n"
      ],
      "execution_count": 4,
      "outputs": []
    },
    {
      "cell_type": "markdown",
      "metadata": {
        "id": "fYYchwfJuMtJ"
      },
      "source": [
        "Train test split the data."
      ]
    },
    {
      "cell_type": "code",
      "metadata": {
        "id": "hBge-rx8gtsd"
      },
      "source": [
        "X_train, X_val, y_train, y_val = train_test_split(X_train, y_train, test_size = .15, stratify = y_train)"
      ],
      "execution_count": 5,
      "outputs": []
    },
    {
      "cell_type": "markdown",
      "metadata": {
        "id": "h4P6KbLNK-L4"
      },
      "source": [
        "I non-systematically tried many test sizes. Later alogrithms of mine use more sophisticated methods of hyparameter optimization.\n"
      ]
    },
    {
      "cell_type": "code",
      "metadata": {
        "id": "jWKVhB5EZKSO"
      },
      "source": [
        "#each fold is 10% of the data\n",
        "n_neighbors_max = (int)(len(y_train) - len(y_train) * .10) -1\n",
        "pipe = Pipeline([('knn', KNeighborsClassifier(weights='distance'))\n",
        "                         ])\n",
        "parameters = dict(knn__n_neighbors = range(2,n_neighbors_max),\n",
        "                  knn__weights = ['distance'],\n",
        "                  knn__p = [1, 2])"
      ],
      "execution_count": null,
      "outputs": []
    },
    {
      "cell_type": "markdown",
      "metadata": {
        "id": "kd3a7_5aK1e6"
      },
      "source": [
        "I tried a lot of different things here at first before getting to just these parameters.\n",
        "\n",
        "At first I had both a minmax scaler and standard scaler, I also tried some NCA analysis but was only able to get up to around .73 accuracy.\n",
        "\n",
        "It also took awhile to figure out how to get the max number of samples that gridsearchCV creates, but eventually I realized that due to the 10 folds I could figure it out.\n"
      ]
    },
    {
      "cell_type": "code",
      "metadata": {
        "id": "zCukHvSHX3-y"
      },
      "source": [
        "cv = StratifiedKFold(10)"
      ],
      "execution_count": null,
      "outputs": []
    },
    {
      "cell_type": "code",
      "metadata": {
        "id": "ecnuo_lLbiHh"
      },
      "source": [
        "\n",
        "grid = GridSearchCV(pipe, parameters, cv=cv, scoring=\"f1\")"
      ],
      "execution_count": null,
      "outputs": []
    },
    {
      "cell_type": "code",
      "metadata": {
        "colab": {
          "base_uri": "https://localhost:8080/"
        },
        "id": "IRxb_9OQz7Kr",
        "outputId": "12c1beff-9e79-42b0-c574-40405e125569"
      },
      "source": [
        "%%time\n",
        "grid.fit(X_train, np.ravel(y_train))"
      ],
      "execution_count": null,
      "outputs": [
        {
          "output_type": "stream",
          "text": [
            "CPU times: user 2min 11s, sys: 1min 5s, total: 3min 16s\n",
            "Wall time: 2min 4s\n"
          ],
          "name": "stdout"
        },
        {
          "output_type": "execute_result",
          "data": {
            "text/plain": [
              "GridSearchCV(cv=StratifiedKFold(n_splits=10, random_state=None, shuffle=False),\n",
              "             error_score=nan,\n",
              "             estimator=Pipeline(memory=None,\n",
              "                                steps=[('knn',\n",
              "                                        KNeighborsClassifier(algorithm='auto',\n",
              "                                                             leaf_size=30,\n",
              "                                                             metric='minkowski',\n",
              "                                                             metric_params=None,\n",
              "                                                             n_jobs=None,\n",
              "                                                             n_neighbors=5, p=2,\n",
              "                                                             weights='distance'))],\n",
              "                                verbose=False),\n",
              "             iid='deprecated', n_jobs=None,\n",
              "             param_grid={'knn__n_neighbors': range(2, 610), 'knn__p': [1, 2],\n",
              "                         'knn__weights': ['distance']},\n",
              "             pre_dispatch='2*n_jobs', refit=True, return_train_score=False,\n",
              "             scoring='f1', verbose=0)"
            ]
          },
          "metadata": {
            "tags": []
          },
          "execution_count": 12
        }
      ]
    },
    {
      "cell_type": "markdown",
      "metadata": {
        "id": "fG3EuyVVuhDO"
      },
      "source": [
        "The best score from this gridsearch is a ~.747"
      ]
    },
    {
      "cell_type": "code",
      "metadata": {
        "colab": {
          "base_uri": "https://localhost:8080/"
        },
        "id": "LpH_T7l-fi-t",
        "outputId": "a8f1af9d-b817-4ba8-f5a2-a8a1ed819811"
      },
      "source": [
        "grid.best_score_"
      ],
      "execution_count": null,
      "outputs": [
        {
          "output_type": "execute_result",
          "data": {
            "text/plain": [
              "0.7466604080835229"
            ]
          },
          "metadata": {
            "tags": []
          },
          "execution_count": 29
        }
      ]
    },
    {
      "cell_type": "markdown",
      "metadata": {
        "id": "kLrY_ZaHKxoI"
      },
      "source": [
        "I was able to achieve higher scores by using the MinMax scaler in the grid search but my test results were not as good."
      ]
    },
    {
      "cell_type": "code",
      "metadata": {
        "colab": {
          "base_uri": "https://localhost:8080/"
        },
        "id": "NvAt-KnAppnG",
        "outputId": "d20e1607-9793-4934-c360-cf79c989412a"
      },
      "source": [
        "grid.best_estimator_"
      ],
      "execution_count": null,
      "outputs": [
        {
          "output_type": "execute_result",
          "data": {
            "text/plain": [
              "Pipeline(memory=None,\n",
              "         steps=[('knn',\n",
              "                 KNeighborsClassifier(algorithm='auto', leaf_size=30,\n",
              "                                      metric='minkowski', metric_params=None,\n",
              "                                      n_jobs=None, n_neighbors=544, p=1,\n",
              "                                      weights='distance'))],\n",
              "         verbose=False)"
            ]
          },
          "metadata": {
            "tags": []
          },
          "execution_count": 19
        }
      ]
    },
    {
      "cell_type": "markdown",
      "metadata": {
        "id": "d6XUd3C1KvQA"
      },
      "source": [
        "Fitting my model based on the parameters generated in grid search."
      ]
    },
    {
      "cell_type": "code",
      "metadata": {
        "id": "JgXmUaaisrnT",
        "colab": {
          "base_uri": "https://localhost:8080/",
          "height": 283
        },
        "outputId": "19242764-3a54-435e-a712-a5fe880aa9bb"
      },
      "source": [
        "val_f1 = []\n",
        "for i in range(1000):  \n",
        "  y_train = train_data.iloc[:,-1:]\n",
        "  X_train = train_data.iloc[:,:-1]\n",
        "  X_train, X_val, y_train, y_val = train_test_split(X_train, y_train, test_size = .15, stratify = y_train, random_state = i)\n",
        "  #X_train = scalar.fit_transform(X_train)\n",
        "  #X_test = scalar.fit_transform(test_data)\n",
        "  knn = KNeighborsClassifier(n_neighbors=544, weights ='distance', p=1)\n",
        "  knn.fit((X_train), np.ravel(y_train))\n",
        "  y_pred = knn.predict(X_val)\n",
        "  val_f1.append(f1_score(y_val, y_pred))\n",
        "\n",
        "sns.histplot(val_f1)\n"
      ],
      "execution_count": 6,
      "outputs": [
        {
          "output_type": "execute_result",
          "data": {
            "text/plain": [
              "<matplotlib.axes._subplots.AxesSubplot at 0x7f90c8d2a890>"
            ]
          },
          "metadata": {
            "tags": []
          },
          "execution_count": 6
        },
        {
          "output_type": "display_data",
          "data": {
            "image/png": "[encoded data removed]",
            "text/plain": [
              "<Figure size 432x288 with 1 Axes>"
            ]
          },
          "metadata": {
            "tags": [],
            "needs_background": "light"
          }
        }
      ]
    },
    {
      "cell_type": "markdown",
      "metadata": {
        "id": "c79L74SgvUMT"
      },
      "source": [
        "For fun, I chose a random state which generated the best result and printed the accuracy metrics."
      ]
    },
    {
      "cell_type": "markdown",
      "metadata": {
        "id": "Jm3ToFCcKtPa"
      },
      "source": [
        "generate roc_auc, f1 score, and accuracy score for the model I ended up with"
      ]
    },
    {
      "cell_type": "code",
      "metadata": {
        "colab": {
          "base_uri": "https://localhost:8080/"
        },
        "id": "Ir0wjX0TJQ12",
        "outputId": "96fa576a-3854-4dd0-dd6a-ef10e2caa5cd"
      },
      "source": [
        "X_train, X_val, y_train, y_val = train_test_split(X_train, y_train, test_size = .15, stratify = y_train, random_state = 629)\n",
        "knn = KNeighborsClassifier(n_neighbors=544, weights ='distance', p=1)\n",
        "knn.fit((X_train), np.ravel(y_train))\n",
        "y_pred = knn.predict(X_val)\n",
        "y_pred_true = knn.predict_proba(X_val)[:,1]\n",
        "\n",
        "print(roc_auc_score(y_val, y_pred_true))\n",
        "print(f1_score(y_val, y_pred))\n",
        "print(accuracy_score(y_val, y_pred))"
      ],
      "execution_count": null,
      "outputs": [
        {
          "output_type": "stream",
          "text": [
            "0.8065764023210833\n",
            "0.7669172932330828\n",
            "0.696078431372549\n"
          ],
          "name": "stdout"
        }
      ]
    },
    {
      "cell_type": "markdown",
      "metadata": {
        "id": "4sj3s_vnKnKh"
      },
      "source": [
        "## Train model on best state in the distribution generated previously.\n",
        "\n",
        "## Test the model on the test data."
      ]
    },
    {
      "cell_type": "code",
      "metadata": {
        "id": "MbVmqTnN_pWd"
      },
      "source": [
        "\n",
        "y_train = train_data.iloc[:,-1:]\n",
        "X_train = train_data.iloc[:,:-1]\n",
        "X_train, X_val, y_train, y_val = train_test_split(X_train, y_train, test_size = .15, stratify = y_train, random_state = 629)\n",
        "knn = KNeighborsClassifier(n_neighbors=544, weights ='distance', p=1)\n",
        "knn.fit((X_train), np.ravel(y_train))\n",
        "y_pred = knn.predict(test_data)"
      ],
      "execution_count": null,
      "outputs": []
    },
    {
      "cell_type": "code",
      "metadata": {
        "colab": {
          "base_uri": "https://localhost:8080/"
        },
        "id": "j3_yoUFQ_Y40",
        "outputId": "e007e4ac-eece-47d3-8690-4437a2f23bdf"
      },
      "source": [
        "y_pred"
      ],
      "execution_count": null,
      "outputs": [
        {
          "output_type": "execute_result",
          "data": {
            "text/plain": [
              "array([1, 0, 1, 1, 1, 0, 1, 1, 0, 1, 1, 1, 1, 1, 1, 1, 1, 1, 1, 0, 1, 1,\n",
              "       1, 1, 1, 0, 0, 1, 1, 1, 1, 1, 1, 0, 0, 1, 1, 1, 1, 1, 1, 1, 1, 1,\n",
              "       1, 1, 1, 1, 1, 0, 0, 1, 1, 0, 0, 1, 1, 1, 1, 1, 1, 1, 1, 1, 1, 1,\n",
              "       1, 1, 1, 1, 1, 1, 0, 1, 0, 1, 1, 0, 1, 1, 1, 0, 1, 1, 0, 0, 1, 1,\n",
              "       1, 1, 1, 1, 1, 1, 1, 0, 1, 1, 1, 0, 0, 1, 1, 1, 1, 1, 1, 0, 1, 1,\n",
              "       1, 0, 1, 1, 1, 1, 1, 1, 0, 1, 1, 0, 0, 1, 0, 0, 1, 1, 1, 0, 1, 0,\n",
              "       1, 1, 1, 0, 1, 1, 1, 1, 1, 1, 0, 1, 1, 1, 0, 1, 0, 1, 1, 1, 1, 1,\n",
              "       1, 1, 1, 1, 1, 1, 0, 1, 1, 1, 1, 1, 0, 1, 0, 0, 1, 1, 1, 1, 1, 0,\n",
              "       1, 0, 1, 1, 1, 0, 1, 1, 1, 0, 0, 0, 1, 1, 1, 1, 1, 1, 0, 1, 0, 1,\n",
              "       1, 1, 1, 1, 1, 1, 1, 1, 1, 1, 1, 1, 0, 0, 1, 1, 1, 1, 1, 1, 1, 1,\n",
              "       1, 1, 1, 1, 1, 1, 1, 1, 1, 1, 1, 1, 1, 1, 1, 1, 1, 0, 0, 1, 1, 1,\n",
              "       1, 1, 1, 1, 1, 1, 1, 1, 1, 0, 1, 1, 1, 1, 1, 1, 1, 0, 1, 0, 1, 1,\n",
              "       1, 1, 1, 1, 1, 1, 0, 1, 1, 1, 1, 1, 1, 1, 1, 0, 1, 1, 1, 1, 1, 1,\n",
              "       0, 1, 1, 0, 0, 1, 1, 1, 1, 1, 1, 1, 1, 1, 1, 1, 1, 1, 1, 0, 0, 1,\n",
              "       1, 0, 1, 0, 1, 1, 1, 1, 0, 1, 0, 0, 0, 1, 1, 1, 1, 1, 1, 0, 1, 1,\n",
              "       1, 0, 1, 1, 1, 1, 1, 0, 1, 1, 1, 1, 1, 1, 1, 0, 1, 1, 1, 1, 1, 1,\n",
              "       1, 0, 1, 1, 1, 1, 1, 1, 1, 1, 1, 1, 1, 1, 1, 0, 0, 1, 1, 1, 1, 1,\n",
              "       0, 1, 1, 1, 1, 1, 1, 0, 1, 1, 1, 1, 1, 0, 1, 1, 1, 0, 0, 0, 1, 1,\n",
              "       0, 1, 1, 1, 1, 1, 1, 1, 1, 1, 0, 1, 1, 1, 1, 1, 0, 1, 1, 1, 1, 1,\n",
              "       1, 1, 1, 1, 1, 1, 1, 0, 0, 0, 0, 0, 1, 0, 1, 1, 1, 0, 1, 1, 1, 1,\n",
              "       0, 1, 1, 0, 0, 1, 1, 0, 1, 0, 0, 1, 1, 1, 1, 1, 1, 1, 1, 1, 1, 1,\n",
              "       1, 1, 1, 1, 1, 1, 1, 1, 1, 0, 0, 1, 1, 1, 1, 1, 1, 1, 0, 1, 1, 1,\n",
              "       1, 1, 1, 1, 1, 1, 1, 0, 1, 1, 1, 1, 1, 1, 1, 0, 1, 1, 1, 1, 1, 1,\n",
              "       1, 1, 1, 1, 1, 1, 1, 1, 1, 1, 0, 1, 1, 1, 1, 0, 0, 1, 0, 1, 0, 1,\n",
              "       1, 1, 1, 1, 1, 1, 1, 0, 1, 1, 1, 1, 1, 1, 0, 1, 1, 1, 1, 0, 1, 1,\n",
              "       1, 1, 1, 1, 1, 0, 1, 0, 1, 1, 1, 1, 0, 1, 1, 1, 0, 1, 1, 1, 1, 1,\n",
              "       1, 1, 1, 1, 1, 1, 1, 0, 1, 1, 1, 1, 1, 0, 1, 1, 1, 1, 0, 1, 1, 1,\n",
              "       1, 1, 1, 1, 1, 0, 1, 1, 1, 1, 1, 1, 1, 1, 1, 1, 1, 1, 1, 1, 1, 1,\n",
              "       1, 1, 0, 0, 0, 1, 1, 1, 1, 1, 1, 0, 0, 0, 1, 1, 1, 1, 1, 1, 1, 1,\n",
              "       0, 1, 1, 1, 0, 1, 1, 1, 0, 1, 1, 0, 0, 1, 1, 1, 1, 0, 1, 1, 1, 1,\n",
              "       1, 1, 1, 1, 1, 0, 1, 0, 1, 1, 1, 1, 1, 0, 1, 1, 1, 1, 0, 1, 1, 0,\n",
              "       1, 1, 1, 1, 1, 1, 1, 1, 1, 1, 1, 0, 1, 1, 1, 1, 1, 0, 0, 1, 1, 1,\n",
              "       1, 1, 1, 1, 0, 0, 1, 1, 1, 0, 0, 1, 1, 1, 1, 1, 1, 1, 1, 1, 1, 1,\n",
              "       1, 0, 1, 1, 1, 1, 1, 1, 1, 1, 1, 1, 1, 1, 1, 1, 1, 0, 1, 1, 1, 1,\n",
              "       1, 1, 1, 1, 1, 0, 1, 1, 1, 0, 1, 1, 1, 1, 1, 1, 1, 1, 1, 0, 1, 1,\n",
              "       1, 1, 1, 1, 1, 1, 1, 0, 1, 0, 1, 1, 1, 1, 1, 1, 1, 1, 0, 0, 1, 1,\n",
              "       1, 1, 1, 0, 1, 1, 1, 1])"
            ]
          },
          "metadata": {
            "tags": []
          },
          "execution_count": 32
        }
      ]
    },
    {
      "cell_type": "code",
      "metadata": {
        "id": "qzBpcP3UIjRd"
      },
      "source": [
        "submission = pd.DataFrame(data={'quality': y_pred}, index = test_data.index)\n",
        "submission.to_csv('knnSubmission.csv', index = True, index_label='id')"
      ],
      "execution_count": null,
      "outputs": []
    }
  ]
}